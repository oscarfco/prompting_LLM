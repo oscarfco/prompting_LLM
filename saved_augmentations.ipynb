{
 "cells": [
  {
   "cell_type": "code",
   "execution_count": 5,
   "id": "6ed332a3-234d-4675-849d-d67b2c271474",
   "metadata": {},
   "outputs": [],
   "source": [
    "%load_ext autoreload\n",
    "%autoreload 2"
   ]
  },
  {
   "cell_type": "code",
   "execution_count": 6,
   "id": "41fe2470-6d41-4876-8593-e99b7ac93852",
   "metadata": {},
   "outputs": [],
   "source": [
    "import json\n",
    "import jsonlines\n",
    "import datetime"
   ]
  },
  {
   "cell_type": "markdown",
   "id": "01e81578-708b-46a7-9247-2e842fc75acd",
   "metadata": {},
   "source": [
    "### Generated Augmentations"
   ]
  },
  {
   "cell_type": "code",
   "execution_count": 18,
   "id": "d9fe2450-40b8-49ad-a47e-5ce3c612d26b",
   "metadata": {},
   "outputs": [],
   "source": [
    "task_name = \"anli_r3\"\n",
    "model_name = \"EleutherAI_gpt-j-6B\""
   ]
  },
  {
   "cell_type": "code",
   "execution_count": 19,
   "id": "c5868a85-3ef2-4c91-aff3-ee14cb262be4",
   "metadata": {},
   "outputs": [],
   "source": [
    "data_dir = \"/home/ahojel\"\n",
    "    \n",
    "small_date = \"11122022\"\n",
    "big_date = \"11122022\"\n",
    "    \n",
    "with open(f\"{data_dir}/ama_logs/final_runs/{task_name}/EleutherAI_gpt-j-6B_decomposed_{big_date}.json\") as f:\n",
    "    data_big = json.load(f)\n",
    "with open(f\"{data_dir}/ama_logs/final_runs/{task_name}/EleutherAI_gpt-neo-1.3B_decomposed_{small_date}.json\") as f:\n",
    "    data_small = json.load(f)"
   ]
  },
  {
   "cell_type": "markdown",
   "id": "bc28bff1-29b0-4235-88cb-ea4bff8b563d",
   "metadata": {},
   "source": [
    "#### Raw preds"
   ]
  },
  {
   "cell_type": "code",
   "execution_count": 20,
   "id": "3246ee1e-ce6f-4c11-b0a9-9f2be53d0fcb",
   "metadata": {
    "tags": []
   },
   "outputs": [],
   "source": [
    "first = True\n",
    "output = []\n",
    "for i, (k, v) in enumerate(data_big.items()):\n",
    "    \n",
    "    # pred_big = v['pred']\n",
    "    # pred_small = data_small[k]['pred']\n",
    "    # gold = v['gold']\n",
    "    \n",
    "    # extraction = []\n",
    "    question = v[\"generated_questions\"]\n",
    "    # for j in range(3):\n",
    "    #     # extraction.append(v['prompts'][j][1].split('\\n\\n')[-1].split(\"\\n\")[0][7:])\n",
    "    #     question.append(v['prompts'][j][1].split('\\n\\n')[-1].split(\"\\n\")[-2][10:])\n",
    "    cur_dict = {}\n",
    "    # cur_dict[\"extraction\"] = extraction\n",
    "    cur_dict[\"question\"] = question\n",
    "\n",
    "    output.append(cur_dict)"
   ]
  },
  {
   "cell_type": "code",
   "execution_count": 21,
   "id": "e197ce6d-e881-4f0f-8e84-ed2e9820bd49",
   "metadata": {},
   "outputs": [
    {
     "data": {
      "text/plain": [
       "'11142022'"
      ]
     },
     "execution_count": 21,
     "metadata": {},
     "output_type": "execute_result"
    }
   ],
   "source": [
    "today_date = datetime.datetime.now()\n",
    "today_date = today_date.strftime(\"%m%d%Y\")\n",
    "today_date"
   ]
  },
  {
   "cell_type": "code",
   "execution_count": 22,
   "id": "9a67348d-4713-4fc3-bf65-d413d78df44c",
   "metadata": {},
   "outputs": [],
   "source": [
    "# Writing to sample.json\n",
    "with open(f\"/home/ahojel/ama_logs/saved_augmentations/{task_name}/{model_name}.json\", \"w\") as outfile:\n",
    "    outfile.write(json.dumps(output))"
   ]
  },
  {
   "cell_type": "code",
   "execution_count": 23,
   "id": "98563ae7-96f3-4153-ba1b-8755a0e3f378",
   "metadata": {},
   "outputs": [
    {
     "data": {
      "text/plain": [
       "150"
      ]
     },
     "execution_count": 23,
     "metadata": {},
     "output_type": "execute_result"
    }
   ],
   "source": [
    "len(output)"
   ]
  },
  {
   "cell_type": "code",
   "execution_count": null,
   "id": "f19ca6ef-8898-413d-a3dd-12a9c393bd49",
   "metadata": {},
   "outputs": [],
   "source": []
  }
 ],
 "metadata": {
  "kernelspec": {
   "display_name": "Python 3 (ipykernel)",
   "language": "python",
   "name": "python3"
  },
  "language_info": {
   "codemirror_mode": {
    "name": "ipython",
    "version": 3
   },
   "file_extension": ".py",
   "mimetype": "text/x-python",
   "name": "python",
   "nbconvert_exporter": "python",
   "pygments_lexer": "ipython3",
   "version": "3.8.13"
  }
 },
 "nbformat": 4,
 "nbformat_minor": 5
}
